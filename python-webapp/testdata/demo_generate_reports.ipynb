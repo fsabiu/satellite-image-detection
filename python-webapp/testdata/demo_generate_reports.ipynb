{
 "cells": [
  {
   "cell_type": "code",
   "execution_count": 1,
   "id": "a9cae67b",
   "metadata": {},
   "outputs": [],
   "source": [
    "from datetime import date, timedelta\n",
    "import os\n",
    "import random\n",
    "import string\n",
    "import sys\n",
    "module_path = os.path.abspath(os.path.join('..'))\n",
    "if module_path not in sys.path:\n",
    "    sys.path.append(module_path)"
   ]
  },
  {
   "cell_type": "code",
   "execution_count": 2,
   "id": "ff9a9b4c",
   "metadata": {},
   "outputs": [],
   "source": [
    "import pandas as pd\n",
    "import report_utils\n",
    "from testdata.polish_names.generator import generate_people\n",
    "from testdata.report_data import samples"
   ]
  },
  {
   "cell_type": "code",
   "execution_count": null,
   "id": "bd577373",
   "metadata": {},
   "outputs": [],
   "source": [
    "report_utils.report_fields"
   ]
  },
  {
   "cell_type": "code",
   "execution_count": null,
   "id": "faf17908",
   "metadata": {},
   "outputs": [],
   "source": [
    "def generateNames(n):\n",
    "    n_males = n//2\n",
    "    n_females = n - n_males\n",
    "    males = generate_people(n_males, \"M\")\n",
    "    females = generate_people(n_females, \"F\")\n",
    "    \n",
    "    res = males + females\n",
    "    random.shuffle(res)\n",
    "    \n",
    "    first_names = [item.split()[0] for item in res]\n",
    "    last_names = [item.split()[1] for item in res]\n",
    "    \n",
    "    return first_names, last_names\n",
    "\n",
    "generateNames(10)"
   ]
  },
  {
   "cell_type": "code",
   "execution_count": null,
   "id": "c0004695",
   "metadata": {},
   "outputs": [],
   "source": [
    "def generateTitles(n):\n",
    "    return random.sample(samples.titles, n)\n",
    "\n",
    "generateTitles(10)"
   ]
  },
  {
   "cell_type": "code",
   "execution_count": null,
   "id": "e50f2c19",
   "metadata": {},
   "outputs": [],
   "source": [
    "def generateDescriptions(n):\n",
    "    return random.sample(samples.descriptions, n)\n",
    "\n",
    "generateDescriptions(10)"
   ]
  },
  {
   "cell_type": "code",
   "execution_count": null,
   "id": "720ef248",
   "metadata": {},
   "outputs": [],
   "source": [
    "def generateTags(n, max_tags):\n",
    "    tags = []\n",
    "    for i in range(n):\n",
    "        tags.append(random.sample(samples.tags, random.randrange(1, max_tags)))\n",
    "    return tags\n",
    "\n",
    "generateTags(10, 3)"
   ]
  },
  {
   "cell_type": "code",
   "execution_count": null,
   "id": "563777bd",
   "metadata": {},
   "outputs": [],
   "source": [
    "def generateDates(n):\n",
    "    # initializing dates ranges \n",
    "    date1, date2 = date(2017, 6, 3), date(2020, 1, 15)\n",
    "    \n",
    "    # getting days between dates\n",
    "    dates_bet = date2 - date1\n",
    "    total_days = dates_bet.days\n",
    "\n",
    "    creationDates = []\n",
    "    updateDates = []\n",
    "    \n",
    "    for idx in range(n):\n",
    "        random.seed(a=None)\n",
    "\n",
    "        # getting random days\n",
    "        randay = random.randrange(total_days)\n",
    "\n",
    "        # getting random dates \n",
    "        creationDates.append(date1 + timedelta(days=randay))\n",
    "        updateDates.append(date2 + timedelta(days=randay))\n",
    "        \n",
    "    return creationDates, updateDates\n",
    "\n",
    "generateDates(10)"
   ]
  },
  {
   "cell_type": "code",
   "execution_count": null,
   "id": "5dc2d01f",
   "metadata": {},
   "outputs": [],
   "source": [
    "def generateBool(n): # Metadata available\n",
    "    res = []\n",
    "    for i in range(n):\n",
    "        if(random.randint(1, 100)<50):\n",
    "            res.append(False)\n",
    "        else:\n",
    "            res.append(True)\n",
    "    return res\n",
    "\n",
    "generateBool(10)"
   ]
  },
  {
   "cell_type": "code",
   "execution_count": null,
   "id": "34f9904a",
   "metadata": {},
   "outputs": [],
   "source": [
    "def generateIDs(n):\n",
    "    ids = []\n",
    "    while len(ids) < n:\n",
    "        id = ''.join(random.choices(string.ascii_uppercase, k=2)) + ''.join(random.choices(string.digits, k=7))\n",
    "        if id not in ids:\n",
    "            ids.append(id)\n",
    "    return ids\n",
    "\n",
    "generateIDs(10)"
   ]
  },
  {
   "cell_type": "code",
   "execution_count": null,
   "id": "0529c332",
   "metadata": {},
   "outputs": [],
   "source": [
    "def generateCoordinates(n):\n",
    "    rectangles = []\n",
    "    for i in range(n):\n",
    "        # Generate random coordinates \n",
    "        x1 = random.uniform(49.00, 55.00)\n",
    "        y1 = random.uniform(14.00, 32.00)\n",
    "        \n",
    "        side_length = random.uniform(0.01, 0.01)\n",
    "        x2 = x1 + side_length\n",
    "        y2 = y1 + side_length\n",
    "\n",
    "        # Ensure that the second coordinate is always lower-right corner\n",
    "        if x2 < x1:\n",
    "            x1, x2 = x2, x1\n",
    "        if y2 > y1:\n",
    "            y1, y2 = y2, y1\n",
    "\n",
    "        # Add the rectangle coordinates to the list\n",
    "        rectangles.append(((x1, y1), (x2, y2)))\n",
    "\n",
    "    fromCoordx = [item[0][0] for item in rectangles]\n",
    "    fromCoordy = [item[0][1] for item in rectangles]\n",
    "    toCoordx = [item[1][0] for item in rectangles]\n",
    "    toCoordy = [item[1][1] for item in rectangles]\n",
    "    \n",
    "    return fromCoordx, fromCoordy, toCoordx, toCoordy\n",
    "\n",
    "generateCoordinates(10)"
   ]
  },
  {
   "cell_type": "code",
   "execution_count": null,
   "id": "6d96f1db",
   "metadata": {},
   "outputs": [],
   "source": [
    "def generateDummyReports(n):\n",
    "    first_names, last_names = generateNames(n)\n",
    "    titles = generateTitles(n)\n",
    "    descriptions = generateDescriptions(n)\n",
    "    tags = generateTags(n, 3) # From 1 to 3 tags\n",
    "    creationDates, updateDates = generateDates(n)\n",
    "    metadata = generateBool(n)\n",
    "    ids = generateIDs(n)\n",
    "    fromCoordx, fromCoordy, toCoordx, toCoordy = generateCoordinates(n)\n",
    "    \n",
    "    reports = pd.DataFrame(\n",
    "    {report_utils.report_fields['title']: titles,\n",
    "     report_utils.report_fields['desc']: descriptions,\n",
    "     report_utils.report_fields['fromCoordx']: fromCoordx,\n",
    "     report_utils.report_fields['fromCoordy']: fromCoordy,\n",
    "     report_utils.report_fields['toCoordx']: toCoordx,\n",
    "     report_utils.report_fields['toCoordy']: toCoordy,\n",
    "     report_utils.report_fields['creationDate']: creationDates,\n",
    "     report_utils.report_fields['authFirstName']: first_names,\n",
    "     report_utils.report_fields['authLastName']: last_names,\n",
    "     report_utils.report_fields['id']: ids,\n",
    "     report_utils.report_fields['lastUpdateDate']: updateDates,\n",
    "     report_utils.report_fields['linkedMetadata']: metadata,\n",
    "     report_utils.report_fields['tags']: tags\n",
    "    })\n",
    "    \n",
    "    return reports"
   ]
  },
  {
   "cell_type": "code",
   "execution_count": null,
   "id": "3ef1188e",
   "metadata": {},
   "outputs": [],
   "source": [
    "reports = generateDummyReports(100)"
   ]
  },
  {
   "cell_type": "code",
   "execution_count": null,
   "id": "6cb170dc",
   "metadata": {},
   "outputs": [],
   "source": [
    "reports"
   ]
  },
  {
   "cell_type": "code",
   "execution_count": null,
   "id": "b5939cd6",
   "metadata": {},
   "outputs": [],
   "source": [
    "reports.to_csv(\"dummy_reports.csv\")"
   ]
  }
 ],
 "metadata": {
  "kernelspec": {
   "display_name": "Python 3",
   "language": "python",
   "name": "python3"
  },
  "language_info": {
   "codemirror_mode": {
    "name": "ipython",
    "version": 3
   },
   "file_extension": ".py",
   "mimetype": "text/x-python",
   "name": "python",
   "nbconvert_exporter": "python",
   "pygments_lexer": "ipython3",
   "version": "3.8.2"
  }
 },
 "nbformat": 4,
 "nbformat_minor": 5
}
